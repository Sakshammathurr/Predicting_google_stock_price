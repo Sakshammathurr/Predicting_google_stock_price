{
  "nbformat": 4,
  "nbformat_minor": 0,
  "metadata": {
    "colab": {
      "provenance": []
    },
    "kernelspec": {
      "name": "python3",
      "display_name": "Python 3"
    },
    "accelerator": "GPU",
    "gpuClass": "standard"
  },
  "cells": [
    {
      "cell_type": "markdown",
      "metadata": {
        "id": "xpAuMVCwfWs8"
      },
      "source": [
        "# Recurrent Neural Network"
      ]
    },
    {
      "cell_type": "markdown",
      "metadata": {
        "id": "nxJfRe4bfYVA"
      },
      "source": [
        "## Part 1 - Data Preprocessing"
      ]
    },
    {
      "cell_type": "markdown",
      "metadata": {
        "id": "ir9zwETrfbrp"
      },
      "source": [
        "### Importing the libraries"
      ]
    },
    {
      "cell_type": "code",
      "metadata": {
        "id": "ZT1f24vHffuf"
      },
      "source": [
        "import numpy as np\n",
        "import matplotlib.pyplot as plt\n",
        "import pandas as pd"
      ],
      "execution_count": 8,
      "outputs": []
    },
    {
      "cell_type": "markdown",
      "metadata": {
        "id": "nQ47JAxrgmaL"
      },
      "source": [
        "### Importing the training set"
      ]
    },
    {
      "cell_type": "code",
      "metadata": {
        "id": "1xiv3pJOgqY3",
        "colab": {
          "base_uri": "https://localhost:8080/"
        },
        "outputId": "c33298ee-d301-4cf6-b45c-95aef5eec67d"
      },
      "source": [
        "dataset_train = pd.read_csv(r'/content/google_train.csv')\n",
        "training_set = dataset_train.iloc[:, 1:2].values\n",
        "training_set"
      ],
      "execution_count": 28,
      "outputs": [
        {
          "output_type": "execute_result",
          "data": {
            "text/plain": [
              "array([[14.13013 ],\n",
              "       [14.26977 ],\n",
              "       [14.446196],\n",
              "       ...,\n",
              "       [94.489998],\n",
              "       [95.370003],\n",
              "       [94.849998]])"
            ]
          },
          "metadata": {},
          "execution_count": 28
        }
      ]
    },
    {
      "cell_type": "markdown",
      "metadata": {
        "id": "HT8_2UJegtG5"
      },
      "source": [
        "### Feature Scaling"
      ]
    },
    {
      "cell_type": "code",
      "metadata": {
        "id": "OTrF2kR7gx9x"
      },
      "source": [
        "from sklearn.preprocessing import MinMaxScaler\n",
        "sc = MinMaxScaler(feature_range = (0, 1))\n",
        "training_set_scaled = sc.fit_transform(training_set)"
      ],
      "execution_count": 29,
      "outputs": []
    },
    {
      "cell_type": "code",
      "source": [
        "training_set_scaled"
      ],
      "metadata": {
        "colab": {
          "base_uri": "https://localhost:8080/"
        },
        "id": "rG7JS-YAepWr",
        "outputId": "164ca287-72ae-4ceb-e605-ef2c65442e58"
      },
      "execution_count": 30,
      "outputs": [
        {
          "output_type": "execute_result",
          "data": {
            "text/plain": [
              "array([[0.01627303],\n",
              "       [0.01727484],\n",
              "       [0.01854056],\n",
              "       ...,\n",
              "       [0.59279173],\n",
              "       [0.59910508],\n",
              "       [0.59537445]])"
            ]
          },
          "metadata": {},
          "execution_count": 30
        }
      ]
    },
    {
      "cell_type": "markdown",
      "metadata": {
        "id": "JyYgYocqhNUg"
      },
      "source": [
        "### Creating a data structure with 60 timesteps and 1 output"
      ]
    },
    {
      "cell_type": "code",
      "metadata": {
        "id": "iofU21B0i6ST"
      },
      "source": [
        "X_train = []\n",
        "y_train = []\n",
        "for i in range(60, 1258):\n",
        "    X_train.append(training_set_scaled[i-60:i, 0])\n",
        "    y_train.append(training_set_scaled[i, 0])\n",
        "X_train, y_train = np.array(X_train), np.array(y_train)"
      ],
      "execution_count": 31,
      "outputs": []
    },
    {
      "cell_type": "markdown",
      "metadata": {
        "id": "D8yaN7Zvi95l"
      },
      "source": [
        "### Reshaping"
      ]
    },
    {
      "cell_type": "code",
      "metadata": {
        "id": "FOXqJHmNjBkz"
      },
      "source": [
        "X_train = np.reshape(X_train, (X_train.shape[0], X_train.shape[1], 1))"
      ],
      "execution_count": 32,
      "outputs": []
    },
    {
      "cell_type": "markdown",
      "metadata": {
        "id": "ZRRSOJeVjEWV"
      },
      "source": [
        "## Part 2 - Building and Training the RNN"
      ]
    },
    {
      "cell_type": "markdown",
      "metadata": {
        "id": "k4XV88JMjHXG"
      },
      "source": [
        "### Importing the Keras libraries and packages"
      ]
    },
    {
      "cell_type": "code",
      "metadata": {
        "id": "9JRnqsxEjKsD"
      },
      "source": [
        "from keras.models import Sequential\n",
        "from keras.layers import Dense\n",
        "from keras.layers import LSTM\n",
        "from keras.layers import Dropout"
      ],
      "execution_count": 33,
      "outputs": []
    },
    {
      "cell_type": "markdown",
      "metadata": {
        "id": "FEIE-1s9jNzC"
      },
      "source": [
        "### Initialising the RNN"
      ]
    },
    {
      "cell_type": "code",
      "metadata": {
        "id": "1338dJ0UjRKH"
      },
      "source": [
        "regressor = Sequential()"
      ],
      "execution_count": 34,
      "outputs": []
    },
    {
      "cell_type": "markdown",
      "metadata": {
        "id": "62eg1OPGjT8z"
      },
      "source": [
        "### Adding the first LSTM layer and some Dropout regularisation"
      ]
    },
    {
      "cell_type": "code",
      "metadata": {
        "id": "2hIinyXUjbVU"
      },
      "source": [
        "regressor.add(LSTM(units = 50, return_sequences = True, input_shape = (X_train.shape[1], 1)))\n",
        "regressor.add(Dropout(0.2))"
      ],
      "execution_count": 35,
      "outputs": []
    },
    {
      "cell_type": "markdown",
      "metadata": {
        "id": "3XBIYLyOjlMx"
      },
      "source": [
        "### Adding a second LSTM layer and some Dropout regularisation"
      ]
    },
    {
      "cell_type": "code",
      "metadata": {
        "id": "UG7nrVaSjuZ2"
      },
      "source": [
        "regressor.add(LSTM(units = 50, return_sequences = True))\n",
        "regressor.add(Dropout(0.2))"
      ],
      "execution_count": 36,
      "outputs": []
    },
    {
      "cell_type": "markdown",
      "metadata": {
        "id": "Ey3fHVnGj1cu"
      },
      "source": [
        "### Adding a third LSTM layer and some Dropout regularisation"
      ]
    },
    {
      "cell_type": "code",
      "metadata": {
        "id": "PuNi6PgFj7jO"
      },
      "source": [
        "regressor.add(LSTM(units = 50, return_sequences = True))\n",
        "regressor.add(Dropout(0.2))"
      ],
      "execution_count": 37,
      "outputs": []
    },
    {
      "cell_type": "markdown",
      "metadata": {
        "id": "SYTrtfTmj933"
      },
      "source": [
        "### Adding a fourth LSTM layer and some Dropout regularisation"
      ]
    },
    {
      "cell_type": "code",
      "metadata": {
        "id": "Jp4Ty8fRkBYV"
      },
      "source": [
        "regressor.add(LSTM(units = 50))\n",
        "regressor.add(Dropout(0.2))"
      ],
      "execution_count": 38,
      "outputs": []
    },
    {
      "cell_type": "markdown",
      "metadata": {
        "id": "9ABI6rOIkHhk"
      },
      "source": [
        "### Adding the output layer"
      ]
    },
    {
      "cell_type": "code",
      "metadata": {
        "id": "aM6R1z4WkME8"
      },
      "source": [
        "regressor.add(Dense(units = 1))"
      ],
      "execution_count": 39,
      "outputs": []
    },
    {
      "cell_type": "markdown",
      "metadata": {
        "id": "zLx4K7uUkPSh"
      },
      "source": [
        "### Compiling the RNN"
      ]
    },
    {
      "cell_type": "code",
      "metadata": {
        "id": "XTrhVN-tkbko"
      },
      "source": [
        "regressor.compile(optimizer = 'adam', loss = 'mean_squared_error')"
      ],
      "execution_count": 40,
      "outputs": []
    },
    {
      "cell_type": "markdown",
      "metadata": {
        "id": "-mPhwKGkkebi"
      },
      "source": [
        "### Fitting the RNN to the Training set"
      ]
    },
    {
      "cell_type": "code",
      "metadata": {
        "id": "I06Nkrz5kkb-",
        "colab": {
          "base_uri": "https://localhost:8080/"
        },
        "outputId": "f81ff374-cb77-485b-fb70-d946b4a3a471"
      },
      "source": [
        "regressor.fit(X_train, y_train, epochs = 100, batch_size = 32)"
      ],
      "execution_count": 41,
      "outputs": [
        {
          "output_type": "stream",
          "name": "stdout",
          "text": [
            "Epoch 1/100\n",
            "38/38 [==============================] - 16s 157ms/step - loss: 0.0014\n",
            "Epoch 2/100\n",
            "38/38 [==============================] - 5s 128ms/step - loss: 2.1278e-04\n",
            "Epoch 3/100\n",
            "38/38 [==============================] - 11s 283ms/step - loss: 1.7495e-04\n",
            "Epoch 4/100\n",
            "38/38 [==============================] - 5s 126ms/step - loss: 1.7146e-04\n",
            "Epoch 5/100\n",
            "38/38 [==============================] - 6s 157ms/step - loss: 2.0089e-04\n",
            "Epoch 6/100\n",
            "38/38 [==============================] - 5s 125ms/step - loss: 1.5854e-04\n",
            "Epoch 7/100\n",
            "38/38 [==============================] - 5s 127ms/step - loss: 1.3700e-04\n",
            "Epoch 8/100\n",
            "38/38 [==============================] - 6s 155ms/step - loss: 1.5631e-04\n",
            "Epoch 9/100\n",
            "38/38 [==============================] - 5s 126ms/step - loss: 1.3854e-04\n",
            "Epoch 10/100\n",
            "38/38 [==============================] - 6s 158ms/step - loss: 1.1485e-04\n",
            "Epoch 11/100\n",
            "38/38 [==============================] - 5s 127ms/step - loss: 1.1128e-04\n",
            "Epoch 12/100\n",
            "38/38 [==============================] - 5s 137ms/step - loss: 1.3821e-04\n",
            "Epoch 13/100\n",
            "38/38 [==============================] - 5s 142ms/step - loss: 1.3014e-04\n",
            "Epoch 14/100\n",
            "38/38 [==============================] - 5s 126ms/step - loss: 1.1947e-04\n",
            "Epoch 15/100\n",
            "38/38 [==============================] - 6s 157ms/step - loss: 9.9747e-05\n",
            "Epoch 16/100\n",
            "38/38 [==============================] - 5s 125ms/step - loss: 9.7712e-05\n",
            "Epoch 17/100\n",
            "38/38 [==============================] - 6s 151ms/step - loss: 1.0730e-04\n",
            "Epoch 18/100\n",
            "38/38 [==============================] - 5s 130ms/step - loss: 1.0041e-04\n",
            "Epoch 19/100\n",
            "38/38 [==============================] - 5s 126ms/step - loss: 9.1256e-05\n",
            "Epoch 20/100\n",
            "38/38 [==============================] - 6s 159ms/step - loss: 1.0609e-04\n",
            "Epoch 21/100\n",
            "38/38 [==============================] - 5s 127ms/step - loss: 8.9205e-05\n",
            "Epoch 22/100\n",
            "38/38 [==============================] - 6s 159ms/step - loss: 1.0546e-04\n",
            "Epoch 23/100\n",
            "38/38 [==============================] - 5s 141ms/step - loss: 1.0074e-04\n",
            "Epoch 24/100\n",
            "38/38 [==============================] - 5s 134ms/step - loss: 9.6667e-05\n",
            "Epoch 25/100\n",
            "38/38 [==============================] - 6s 147ms/step - loss: 9.0052e-05\n",
            "Epoch 26/100\n",
            "38/38 [==============================] - 5s 128ms/step - loss: 8.1768e-05\n",
            "Epoch 27/100\n",
            "38/38 [==============================] - 6s 158ms/step - loss: 8.3027e-05\n",
            "Epoch 28/100\n",
            "38/38 [==============================] - 5s 127ms/step - loss: 8.5614e-05\n",
            "Epoch 29/100\n",
            "38/38 [==============================] - 6s 149ms/step - loss: 8.4338e-05\n",
            "Epoch 30/100\n",
            "38/38 [==============================] - 5s 133ms/step - loss: 8.7825e-05\n",
            "Epoch 31/100\n",
            "38/38 [==============================] - 5s 128ms/step - loss: 8.2427e-05\n",
            "Epoch 32/100\n",
            "38/38 [==============================] - 6s 158ms/step - loss: 7.8910e-05\n",
            "Epoch 33/100\n",
            "38/38 [==============================] - 5s 127ms/step - loss: 8.9356e-05\n",
            "Epoch 34/100\n",
            "38/38 [==============================] - 6s 160ms/step - loss: 7.3807e-05\n",
            "Epoch 35/100\n",
            "38/38 [==============================] - 5s 139ms/step - loss: 7.8382e-05\n",
            "Epoch 36/100\n",
            "38/38 [==============================] - 5s 136ms/step - loss: 7.4577e-05\n",
            "Epoch 37/100\n",
            "38/38 [==============================] - 6s 143ms/step - loss: 8.1881e-05\n",
            "Epoch 38/100\n",
            "38/38 [==============================] - 5s 126ms/step - loss: 8.3810e-05\n",
            "Epoch 39/100\n",
            "38/38 [==============================] - 6s 158ms/step - loss: 8.1773e-05\n",
            "Epoch 40/100\n",
            "38/38 [==============================] - 5s 128ms/step - loss: 8.6261e-05\n",
            "Epoch 41/100\n",
            "38/38 [==============================] - 6s 153ms/step - loss: 8.2666e-05\n",
            "Epoch 42/100\n",
            "38/38 [==============================] - 5s 131ms/step - loss: 6.9407e-05\n",
            "Epoch 43/100\n",
            "38/38 [==============================] - 5s 127ms/step - loss: 7.2066e-05\n",
            "Epoch 44/100\n",
            "38/38 [==============================] - 6s 160ms/step - loss: 6.8698e-05\n",
            "Epoch 45/100\n",
            "38/38 [==============================] - 5s 129ms/step - loss: 7.0671e-05\n",
            "Epoch 46/100\n",
            "38/38 [==============================] - 6s 160ms/step - loss: 6.5288e-05\n",
            "Epoch 47/100\n",
            "38/38 [==============================] - 5s 127ms/step - loss: 6.6322e-05\n",
            "Epoch 48/100\n",
            "38/38 [==============================] - 5s 135ms/step - loss: 6.8928e-05\n",
            "Epoch 49/100\n",
            "38/38 [==============================] - 6s 149ms/step - loss: 6.6317e-05\n",
            "Epoch 50/100\n",
            "38/38 [==============================] - 5s 128ms/step - loss: 7.1750e-05\n",
            "Epoch 51/100\n",
            "38/38 [==============================] - 6s 158ms/step - loss: 8.2359e-05\n",
            "Epoch 52/100\n",
            "38/38 [==============================] - 5s 126ms/step - loss: 7.3443e-05\n",
            "Epoch 53/100\n",
            "38/38 [==============================] - 6s 151ms/step - loss: 6.6581e-05\n",
            "Epoch 54/100\n",
            "38/38 [==============================] - 5s 132ms/step - loss: 6.9464e-05\n",
            "Epoch 55/100\n",
            "38/38 [==============================] - 5s 127ms/step - loss: 6.9329e-05\n",
            "Epoch 56/100\n",
            "38/38 [==============================] - 6s 160ms/step - loss: 6.0161e-05\n",
            "Epoch 57/100\n",
            "38/38 [==============================] - 5s 128ms/step - loss: 6.4373e-05\n",
            "Epoch 58/100\n",
            "38/38 [==============================] - 6s 159ms/step - loss: 7.0697e-05\n",
            "Epoch 59/100\n",
            "38/38 [==============================] - 5s 127ms/step - loss: 8.1633e-05\n",
            "Epoch 60/100\n",
            "38/38 [==============================] - 5s 134ms/step - loss: 6.8282e-05\n",
            "Epoch 61/100\n",
            "38/38 [==============================] - 6s 150ms/step - loss: 6.1565e-05\n",
            "Epoch 62/100\n",
            "38/38 [==============================] - 5s 127ms/step - loss: 6.2476e-05\n",
            "Epoch 63/100\n",
            "38/38 [==============================] - 6s 160ms/step - loss: 6.5233e-05\n",
            "Epoch 64/100\n",
            "38/38 [==============================] - 5s 127ms/step - loss: 5.7474e-05\n",
            "Epoch 65/100\n",
            "38/38 [==============================] - 6s 150ms/step - loss: 6.2484e-05\n",
            "Epoch 66/100\n",
            "38/38 [==============================] - 5s 131ms/step - loss: 5.6959e-05\n",
            "Epoch 67/100\n",
            "38/38 [==============================] - 5s 128ms/step - loss: 6.2329e-05\n",
            "Epoch 68/100\n",
            "38/38 [==============================] - 6s 159ms/step - loss: 7.0955e-05\n",
            "Epoch 69/100\n",
            "38/38 [==============================] - 5s 127ms/step - loss: 5.3925e-05\n",
            "Epoch 70/100\n",
            "38/38 [==============================] - 6s 158ms/step - loss: 5.6224e-05\n",
            "Epoch 71/100\n",
            "38/38 [==============================] - 5s 126ms/step - loss: 6.3038e-05\n",
            "Epoch 72/100\n",
            "38/38 [==============================] - 5s 132ms/step - loss: 5.8797e-05\n",
            "Epoch 73/100\n",
            "38/38 [==============================] - 6s 154ms/step - loss: 6.0154e-05\n",
            "Epoch 74/100\n",
            "38/38 [==============================] - 5s 127ms/step - loss: 5.6424e-05\n",
            "Epoch 75/100\n",
            "38/38 [==============================] - 6s 158ms/step - loss: 6.5493e-05\n",
            "Epoch 76/100\n",
            "38/38 [==============================] - 5s 129ms/step - loss: 5.6279e-05\n",
            "Epoch 77/100\n",
            "38/38 [==============================] - 6s 155ms/step - loss: 6.0894e-05\n",
            "Epoch 78/100\n",
            "38/38 [==============================] - 5s 132ms/step - loss: 6.7250e-05\n",
            "Epoch 79/100\n",
            "38/38 [==============================] - 5s 130ms/step - loss: 6.3541e-05\n",
            "Epoch 80/100\n",
            "38/38 [==============================] - 6s 161ms/step - loss: 6.0480e-05\n",
            "Epoch 81/100\n",
            "38/38 [==============================] - 5s 129ms/step - loss: 5.5419e-05\n",
            "Epoch 82/100\n",
            "38/38 [==============================] - 6s 160ms/step - loss: 5.2034e-05\n",
            "Epoch 83/100\n",
            "38/38 [==============================] - 5s 128ms/step - loss: 6.4477e-05\n",
            "Epoch 84/100\n",
            "38/38 [==============================] - 6s 146ms/step - loss: 5.8140e-05\n",
            "Epoch 85/100\n",
            "38/38 [==============================] - 5s 140ms/step - loss: 5.6375e-05\n",
            "Epoch 86/100\n",
            "38/38 [==============================] - 5s 129ms/step - loss: 7.3588e-05\n",
            "Epoch 87/100\n",
            "38/38 [==============================] - 6s 163ms/step - loss: 6.3878e-05\n",
            "Epoch 88/100\n",
            "38/38 [==============================] - 5s 130ms/step - loss: 5.1618e-05\n",
            "Epoch 89/100\n",
            "38/38 [==============================] - 6s 162ms/step - loss: 5.5238e-05\n",
            "Epoch 90/100\n",
            "38/38 [==============================] - 5s 129ms/step - loss: 5.6496e-05\n",
            "Epoch 91/100\n",
            "38/38 [==============================] - 5s 135ms/step - loss: 5.3314e-05\n",
            "Epoch 92/100\n",
            "38/38 [==============================] - 6s 151ms/step - loss: 5.0668e-05\n",
            "Epoch 93/100\n",
            "38/38 [==============================] - 5s 128ms/step - loss: 6.6217e-05\n",
            "Epoch 94/100\n",
            "38/38 [==============================] - 6s 159ms/step - loss: 5.8403e-05\n",
            "Epoch 95/100\n",
            "38/38 [==============================] - 5s 130ms/step - loss: 4.8889e-05\n",
            "Epoch 96/100\n",
            "38/38 [==============================] - 6s 158ms/step - loss: 5.8898e-05\n",
            "Epoch 97/100\n",
            "38/38 [==============================] - 5s 129ms/step - loss: 5.5508e-05\n",
            "Epoch 98/100\n",
            "38/38 [==============================] - 5s 129ms/step - loss: 5.1239e-05\n",
            "Epoch 99/100\n",
            "38/38 [==============================] - 6s 160ms/step - loss: 5.2539e-05\n",
            "Epoch 100/100\n",
            "38/38 [==============================] - 5s 128ms/step - loss: 6.5395e-05\n"
          ]
        },
        {
          "output_type": "execute_result",
          "data": {
            "text/plain": [
              "<keras.callbacks.History at 0x7fda70ce7f10>"
            ]
          },
          "metadata": {},
          "execution_count": 41
        }
      ]
    },
    {
      "cell_type": "markdown",
      "metadata": {
        "id": "4hRau_lIkrE8"
      },
      "source": [
        "## Part 3 - Making the predictions and visualising the results"
      ]
    },
    {
      "cell_type": "markdown",
      "metadata": {
        "id": "SgJO6qEDksxD"
      },
      "source": [
        "### Getting the real stock price of 2017"
      ]
    },
    {
      "cell_type": "code",
      "metadata": {
        "id": "FmBT2zqukxTz"
      },
      "source": [
        "dataset_test = pd.read_csv(r'/content/google_test.csv')\n",
        "real_stock_price = dataset_test.iloc[:, 1:2].values"
      ],
      "execution_count": 43,
      "outputs": []
    },
    {
      "cell_type": "markdown",
      "metadata": {
        "id": "GrvrLblxkz42"
      },
      "source": [
        "### Getting the predicted stock price of 2017"
      ]
    },
    {
      "cell_type": "code",
      "metadata": {
        "id": "emikTvUpk3Ck",
        "colab": {
          "base_uri": "https://localhost:8080/"
        },
        "outputId": "e18c80a7-1088-492a-e8b9-bac262d0b12e"
      },
      "source": [
        "dataset_total = pd.concat((dataset_train['Open'], dataset_test['Open']), axis = 0)\n",
        "inputs = dataset_total[len(dataset_total) - len(dataset_test) - 60:].values\n",
        "inputs = inputs.reshape(-1,1)\n",
        "inputs = sc.transform(inputs)\n",
        "X_test = []\n",
        "for i in range(60, 80):\n",
        "    X_test.append(inputs[i-60:i, 0])\n",
        "X_test = np.array(X_test)\n",
        "X_test = np.reshape(X_test, (X_test.shape[0], X_test.shape[1], 1))\n",
        "predicted_stock_price = regressor.predict(X_test)\n",
        "predicted_stock_price = sc.inverse_transform(predicted_stock_price)"
      ],
      "execution_count": 50,
      "outputs": [
        {
          "output_type": "stream",
          "name": "stdout",
          "text": [
            "1/1 [==============================] - 0s 70ms/step\n"
          ]
        }
      ]
    },
    {
      "cell_type": "markdown",
      "metadata": {
        "id": "iFTNs3YHk6FQ"
      },
      "source": [
        "### Visualising the results"
      ]
    },
    {
      "cell_type": "code",
      "metadata": {
        "id": "8OUI8U49k9tH",
        "colab": {
          "base_uri": "https://localhost:8080/",
          "height": 295
        },
        "outputId": "7f09edd8-a702-4879-8354-59f79d89981a"
      },
      "source": [
        "plt.plot(real_stock_price, color = 'red', label = 'Real Google Stock Price')\n",
        "plt.plot(predicted_stock_price, color = 'blue', label = 'Predicted Google Stock Price')\n",
        "plt.title('Google Stock Price Prediction')\n",
        "plt.xlabel('Time')\n",
        "plt.ylabel('Google Stock Price')\n",
        "plt.legend()\n",
        "plt.show()"
      ],
      "execution_count": 51,
      "outputs": [
        {
          "output_type": "display_data",
          "data": {
            "text/plain": [
              "<Figure size 432x288 with 1 Axes>"
            ],
            "image/png": "[encoded data removed]"
          },
          "metadata": {
            "needs_background": "light"
          }
        }
      ]
    }
  ]
}